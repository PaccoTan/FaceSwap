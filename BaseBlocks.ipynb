{
 "cells": [
  {
   "cell_type": "code",
   "execution_count": 6,
   "id": "f6989ac9",
   "metadata": {},
   "outputs": [],
   "source": [
    "import tensorflow as tf\n",
    "import tensorflow.keras as keras\n",
    "from tensorflow.keras.layers import Conv2D, ReLU,BatchNormalization"
   ]
  },
  {
   "cell_type": "code",
   "execution_count": 18,
   "id": "03c9ace0",
   "metadata": {},
   "outputs": [],
   "source": [
    "def bottle_block(x,units=64,kernel=3):\n",
    "    out = conv_block(x,units,kernel,1)\n",
    "    out = Conv2D(units,kernel,1,padding=\"same\")(out)\n",
    "    out = BatchNormalization()(out)\n",
    "    out = out + x\n",
    "    out = ReLU()(out)\n",
    "    return out\n",
    "\n",
    "def conv_block(x,units,kernel=3,stride=1):\n",
    "    out = Conv2D(units,kernel,stride,padding=\"same\")(x)\n",
    "    out = BatchNormalization()(out)\n",
    "    out = ReLU()(out)\n",
    "    return out\n",
    "\n",
    "def up_block(x,units=64,kernel=3):\n",
    "    out = UpSampling2D(2,interpolation=\"bilinear\")(x)\n",
    "    out = conv_block(out,units,kernel,1)(out)\n",
    "    return out\n",
    "\n",
    "def down_block(x,units=64,kernel=3):\n",
    "    out = conv_block(x,units,kernel,2)\n",
    "    out = conv_block(out,units,kernel,1)\n",
    "    return out"
   ]
  },
  {
   "cell_type": "code",
   "execution_count": 7,
   "id": "1d10d2ea",
   "metadata": {},
   "outputs": [],
   "source": [
    "def generator(x,units=64,layers):\n",
    "    g2 = conv_block(x,units,7,1)\n",
    "    temp = units\n",
    "    g2 = conv_block(g2,3,temp*2,stride=2)\n",
    "    \n",
    "    "
   ]
  },
  {
   "cell_type": "code",
   "execution_count": null,
   "id": "4b8f3eea",
   "metadata": {},
   "outputs": [],
   "source": []
  }
 ],
 "metadata": {
  "kernelspec": {
   "display_name": "Python [conda env:deepfakes]",
   "language": "python",
   "name": "conda-env-deepfakes-py"
  },
  "language_info": {
   "codemirror_mode": {
    "name": "ipython",
    "version": 3
   },
   "file_extension": ".py",
   "mimetype": "text/x-python",
   "name": "python",
   "nbconvert_exporter": "python",
   "pygments_lexer": "ipython3",
   "version": "3.9.12"
  }
 },
 "nbformat": 4,
 "nbformat_minor": 5
}
