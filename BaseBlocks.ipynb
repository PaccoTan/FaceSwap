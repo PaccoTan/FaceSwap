{
 "cells": [
  {
   "cell_type": "code",
   "execution_count": 21,
   "id": "f6989ac9",
   "metadata": {},
   "outputs": [],
   "source": [
    "import tensorflow as tf\n",
    "import tensorflow.keras as keras\n",
    "from tensorflow.keras.layers import Conv2D, LeakyReLU,BatchNormalization, UpSampling2D"
   ]
  },
  {
   "cell_type": "code",
   "execution_count": 9,
   "id": "03c9ace0",
   "metadata": {},
   "outputs": [],
   "source": [
    "def bottle_block(x,units=64,kernel=3):\n",
    "    out = conv_block(x,units,kernel,1)\n",
    "    out = Conv2D(units,kernel,1,padding=\"same\")(out)\n",
    "    out = BatchNormalization()(out)\n",
    "    out = out + x\n",
    "    out = ReLU()(out)\n",
    "    return out\n",
    "\n",
    "def conv_block(x,units,kernel=3,stride=1,activation=ReLU):\n",
    "    out = Conv2D(units,kernel,stride,padding=\"same\")(x)\n",
    "    out = BatchNormalization()(out)\n",
    "    out = activation()(out)\n",
    "    return out\n",
    "\n",
    "def up_block(x,units=64,kernel=3):\n",
    "    out = UpSampling2D(2,interpolation=\"bilinear\")(x)\n",
    "    out = conv_block(out,units,kernel,1)\n",
    "    return out\n",
    "\n",
    "def down_block(x,units=64,kernel=3):\n",
    "    out = conv_block(x,units,kernel,2)\n",
    "    out = conv_block(out,units,kernel,1)\n",
    "    return out"
   ]
  },
  {
   "cell_type": "code",
   "execution_count": 10,
   "id": "1d10d2ea",
   "metadata": {},
   "outputs": [],
   "source": [
    "def generator(input_shape,units=64,layers=1,num_blocks=6,out_channels=6):\n",
    "    x = keras.layers.Input(input_shape)\n",
    "    g2 = conv_block(x,units,7,1)\n",
    "    temp = units\n",
    "    skip = []\n",
    "    for i in range(0,layers):\n",
    "        g2 = down_block(g2,temp*2,3)\n",
    "        skip.append(g2)\n",
    "        temp *=2\n",
    "    \n",
    "    #code for local enhancer network\n",
    "    #not sure if needed to access local network output for training\n",
    "    local = None\n",
    "    for i in range(0,layers):\n",
    "        g2 = skip[-1-i]\n",
    "        local = g2\n",
    "        for j in range(0,num_blocks):\n",
    "            local = bottle_block(local,temp)\n",
    "        local = g2 + local\n",
    "        temp = temp//2\n",
    "        local = up_block(local,temp)\n",
    "    \n",
    "    g2 = local\n",
    "    for i in range(0,num_blocks):\n",
    "        g2 = bottle_block(g2,units)\n",
    "    g2 = conv_block(g2,out_channels,7)\n",
    "    g2 = tf.keras.activations.tanh(g2)\n",
    "    return keras.Model(x,g2)"
   ]
  },
  {
   "cell_type": "code",
   "execution_count": null,
   "id": "b8773d96",
   "metadata": {},
   "outputs": [],
   "source": [
    "def unet(input_shape,n_units,levels,classes):\n",
    "    inputs = keras.layers.Input(shape=(input_shape))\n",
    "    output = inputs\n",
    "    units = n_units\n",
    "    #create array to store skip tensors\n",
    "    level = []\n",
    "    #Create contracting path\n",
    "    for i in range(0,levels):\n",
    "        output = keras.layers.Conv2D(units,3,strides=1,padding='same',activation='relu')(output)\n",
    "        output = keras.layers.Conv2D(units,3,strides=1,padding='same',activation='relu')(output)\n",
    "        #output = keras.layers.Dropout(0.1)(output)\n",
    "        level.append(output)\n",
    "        output = keras.layers.MaxPooling2D(pool_size=(2,2),strides=(2,2),padding=\"valid\")(output)\n",
    "        units = units * 2\n",
    "        \n",
    "    #Create expansion path    \n",
    "    for i in range(0,levels):\n",
    "        output = keras.layers.Conv2D(units,3,strides=1,padding='same',activation='relu')(output)\n",
    "        output = keras.layers.Conv2D(units,3,strides=1,padding='same',activation='relu')(output)\n",
    "        output = keras.layers.UpSampling2D(size =(2,2),interpolation=\"bilinear\")(output)\n",
    "        units = units//2\n",
    "        output = keras.layers.Conv2D(units,2,padding='same')(output)\n",
    "        output = tf.concat([level[-1-i],output],axis=3)\n",
    "    \n",
    "    #outputting segmentation map\n",
    "    output = keras.layers.Conv2D(units,3,strides=1,padding='same',activation='relu')(output)\n",
    "    output = keras.layers.Conv2D(units,3,strides=1,padding='same',activation='relu')(output)\n",
    "    output = keras.layers.Conv2D(classes,1,padding='same',activation='softmax')(output)\n",
    "    model = keras.Model(inputs,output)\n",
    "    return model"
   ]
  },
  {
   "cell_type": "code",
   "execution_count": 27,
   "id": "e67364a7",
   "metadata": {},
   "outputs": [],
   "source": [
    "def discriminator(x,n_units=64,layers=3):\n",
    "    temp = n_units\n",
    "    out = Conv2D(temp,4,2,padding=\"same\")(x)\n",
    "    out = LeakyReLU()(out)\n",
    "    for i in range(1,layers):\n",
    "        temp = n_units*2\n",
    "        out = conv_block(out,temp,4,2,activation=LeakyReLU)\n",
    "    temp = n_units*2\n",
    "    out = conv_block(out,temp,4,1,activation=LeakyReLU)\n",
    "    out = Conv2D(1,4,1,padding=\"same\")(out)\n",
    "    out = keras.layers.Flatten()(out)\n",
    "    out = keras.activations.sigmoid(out)\n",
    "    return keras.Model(x,out)"
   ]
  },
  {
   "cell_type": "code",
   "execution_count": null,
   "id": "d8c0fd12",
   "metadata": {},
   "outputs": [],
   "source": [
    "def multiscale_discriminator(input_shape):\n",
    "    inputs = keras.layers.Input(input_shape)\n",
    "    out = None\n",
    "    return keras.Model(inputs,out)"
   ]
  }
 ],
 "metadata": {
  "kernelspec": {
   "display_name": "Python [conda env:deepfakes]",
   "language": "python",
   "name": "conda-env-deepfakes-py"
  },
  "language_info": {
   "codemirror_mode": {
    "name": "ipython",
    "version": 3
   },
   "file_extension": ".py",
   "mimetype": "text/x-python",
   "name": "python",
   "nbconvert_exporter": "python",
   "pygments_lexer": "ipython3",
   "version": "3.9.12"
  }
 },
 "nbformat": 4,
 "nbformat_minor": 5
}
