{
 "cells": [
  {
   "cell_type": "code",
   "execution_count": 1,
   "metadata": {},
   "outputs": [
    {
     "name": "stdout",
     "output_type": "stream",
     "text": [
      "Found 30000 files belonging to 1 classes.\n"
     ]
    }
   ],
   "source": [
    "import tensorflow as tf\n",
    "import tensorflow.keras as keras\n",
    "from tensorflow.keras.layers import Conv2D, LeakyReLU,BatchNormalization, UpSampling2D, ReLU\n",
    "import numpy as np\n",
    "import BaseBlocks as bb"
   ]
  },
  {
   "cell_type": "code",
   "execution_count": 2,
   "metadata": {},
   "outputs": [],
   "source": [
    "images = np.zeros((10000,128,128,3), dtype=\"float16\")\n",
    "\n",
    "for thing in bb.dataset.take(1):\n",
    "    for i,image in enumerate(thing):\n",
    "        images[i] = image"
   ]
  },
  {
   "cell_type": "code",
   "execution_count": 4,
   "metadata": {},
   "outputs": [
    {
     "name": "stdout",
     "output_type": "stream",
     "text": [
      "500/500 [==============================] - 2106s 4s/step - loss: 0.5049\n",
      "INFO:tensorflow:Assets written to: training/assets\n"
     ]
    }
   ],
   "source": [
    "unet = bb.unet((128, 128, 3),32,3,2)\n",
    "unet.compile(optimizer=\"adam\", loss=tf.losses.BinaryCrossentropy())\n",
    "unet.fit(images, bb.mask, epochs=1,batch_size=20)\n",
    "unet.save('training/')"
   ]
  },
  {
   "cell_type": "code",
   "execution_count": 24,
   "metadata": {},
   "outputs": [
    {
     "ename": "TypeError",
     "evalue": "'Image' object is not subscriptable",
     "output_type": "error",
     "traceback": [
      "\u001b[1;31m---------------------------------------------------------------------------\u001b[0m",
      "\u001b[1;31mTypeError\u001b[0m                                 Traceback (most recent call last)",
      "\u001b[1;32mc:\\Users\\jconn\\Documents\\GitHub\\FaceSwap\\training.ipynb Cell 4'\u001b[0m in \u001b[0;36m<cell line: 3>\u001b[1;34m()\u001b[0m\n\u001b[0;32m      <a href='vscode-notebook-cell:/c%3A/Users/jconn/Documents/GitHub/FaceSwap/training.ipynb#ch0000005?line=0'>1</a>\u001b[0m \u001b[39mimport\u001b[39;00m \u001b[39mmatplotlib\u001b[39;00m\u001b[39m.\u001b[39;00m\u001b[39mpyplot\u001b[39;00m \u001b[39mas\u001b[39;00m \u001b[39mplt\u001b[39;00m\n\u001b[0;32m      <a href='vscode-notebook-cell:/c%3A/Users/jconn/Documents/GitHub/FaceSwap/training.ipynb#ch0000005?line=1'>2</a>\u001b[0m testImage \u001b[39m=\u001b[39m tf\u001b[39m.\u001b[39mkeras\u001b[39m.\u001b[39mutils\u001b[39m.\u001b[39mload_img(\u001b[39m'\u001b[39m\u001b[39m./ME.png\u001b[39m\u001b[39m'\u001b[39m, color_mode\u001b[39m=\u001b[39m \u001b[39m\"\u001b[39m\u001b[39mrgb\u001b[39m\u001b[39m\"\u001b[39m, target_size\u001b[39m=\u001b[39m(\u001b[39m128\u001b[39m,\u001b[39m128\u001b[39m), interpolation\u001b[39m=\u001b[39m\u001b[39m\"\u001b[39m\u001b[39mbilinear\u001b[39m\u001b[39m\"\u001b[39m)\n\u001b[1;32m----> <a href='vscode-notebook-cell:/c%3A/Users/jconn/Documents/GitHub/FaceSwap/training.ipynb#ch0000005?line=2'>3</a>\u001b[0m plt\u001b[39m.\u001b[39mimshow(testImage[\u001b[39m0\u001b[39;49m])\n\u001b[0;32m      <a href='vscode-notebook-cell:/c%3A/Users/jconn/Documents/GitHub/FaceSwap/training.ipynb#ch0000005?line=3'>4</a>\u001b[0m testImage \u001b[39m=\u001b[39m tf\u001b[39m.\u001b[39mkeras\u001b[39m.\u001b[39mpreprocessing\u001b[39m.\u001b[39mimage\u001b[39m.\u001b[39mimg_to_array(testImage)\n\u001b[0;32m      <a href='vscode-notebook-cell:/c%3A/Users/jconn/Documents/GitHub/FaceSwap/training.ipynb#ch0000005?line=4'>5</a>\u001b[0m testImage \u001b[39m=\u001b[39m tf\u001b[39m.\u001b[39mexpand_dims(testImage, \u001b[39m0\u001b[39m)\n",
      "\u001b[1;31mTypeError\u001b[0m: 'Image' object is not subscriptable"
     ]
    }
   ],
   "source": [
    "import matplotlib.pyplot as plt\n",
    "testImage = tf.keras.utils.load_img('./ME.png', color_mode= \"rgb\", target_size=(128,128), interpolation=\"bilinear\")\n",
    "plt.imshow(testImage)\n",
    "testImage = tf.keras.preprocessing.image.img_to_array(testImage)\n",
    "testImage = tf.expand_dims(testImage, 0)\n",
    "\n",
    "\n",
    "unet.predict(testImage)\n",
    "\n",
    "output = unet.predict(testImage)\n",
    "#plt.imshow(output[0,:,:,0])\n",
    "\n"
   ]
  }
 ],
 "metadata": {
  "interpreter": {
   "hash": "369f2c481f4da34e4445cda3fffd2e751bd1c4d706f27375911949ba6bb62e1c"
  },
  "kernelspec": {
   "display_name": "Python 3.10.4 64-bit",
   "language": "python",
   "name": "python3"
  },
  "language_info": {
   "codemirror_mode": {
    "name": "ipython",
    "version": 3
   },
   "file_extension": ".py",
   "mimetype": "text/x-python",
   "name": "python",
   "nbconvert_exporter": "python",
   "pygments_lexer": "ipython3",
   "version": "3.10.4"
  },
  "orig_nbformat": 4
 },
 "nbformat": 4,
 "nbformat_minor": 2
}
